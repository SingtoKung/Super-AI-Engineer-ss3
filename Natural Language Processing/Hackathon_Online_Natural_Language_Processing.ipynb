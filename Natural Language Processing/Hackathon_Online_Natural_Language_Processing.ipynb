{
  "nbformat": 4,
  "nbformat_minor": 0,
  "metadata": {
    "colab": {
      "provenance": [],
      "gpuClass": "premium"
    },
    "kernelspec": {
      "name": "python3",
      "display_name": "Python 3"
    },
    "language_info": {
      "name": "python"
    },
    "accelerator": "GPU",
    "gpuClass": "premium"
  },
  "cells": [
    {
      "cell_type": "markdown",
      "source": [
        "# Setting"
      ],
      "metadata": {
        "id": "ghAGg-dp97um"
      }
    },
    {
      "cell_type": "code",
      "source": [
        "# Install\n",
        "!pip install kaggle -qq\n",
        "!pip install datasets -qq #สำหรับโหลดdataset\n",
        "!pip install transformers -qq #สำหรับเทรนโมเดล\n",
        "!pip install seqeval -qq #สำหรับevaluation\n",
        "!pip install pythainlp"
      ],
      "metadata": {
        "id": "wsJZX3ZEGJVp"
      },
      "execution_count": null,
      "outputs": []
    },
    {
      "cell_type": "code",
      "source": [
        "!pip install python-crfsuite"
      ],
      "metadata": {
        "id": "3sk8oGbp4Cb6"
      },
      "execution_count": null,
      "outputs": []
    },
    {
      "cell_type": "code",
      "source": [
        "!kaggle competitions download -c ss3-hackathon-online-natural-language-processing"
      ],
      "metadata": {
        "id": "Afl0Pu9oHmIo"
      },
      "execution_count": null,
      "outputs": []
    },
    {
      "cell_type": "code",
      "source": [
        "!unzip -o /content/ss3-hackathon-online-natural-language-processing.zip"
      ],
      "metadata": {
        "id": "yVXU1_URHppl"
      },
      "execution_count": null,
      "outputs": []
    },
    {
      "cell_type": "code",
      "source": [
        "# Extract LST20Corpus\n",
        "!tar -xzf \"/content/AIFORTHAI-LST20Corpus.tar.gz\""
      ],
      "metadata": {
        "id": "cG8NXdOgH9qv"
      },
      "execution_count": null,
      "outputs": []
    },
    {
      "cell_type": "code",
      "source": [
        "# Import Python library\n",
        "import pandas as pd\n",
        "import glob\n",
        "import plotly.express as px\n",
        "from tqdm import tqdm\n",
        "from pathlib import Path\n",
        "from collections import Counter, defaultdict\n",
        "from datasets import load_dataset, load_metric\n",
        "from pythainlp.tokenize import sent_tokenize"
      ],
      "metadata": {
        "id": "SG8P3a67IhDv"
      },
      "execution_count": null,
      "outputs": []
    },
    {
      "cell_type": "code",
      "source": [
        "samplesubmit = pd.read_csv('/content/ne_sample_submission.csv')\n",
        "samplesubmit.head(5)"
      ],
      "metadata": {
        "id": "aCyxd_HCJUfz"
      },
      "execution_count": null,
      "outputs": []
    },
    {
      "cell_type": "code",
      "source": [
        "ne_list = pd.read_csv('/content/ne_list.txt')\n",
        "ne_list"
      ],
      "metadata": {
        "id": "MADEDYZ1JkTe"
      },
      "execution_count": null,
      "outputs": []
    },
    {
      "cell_type": "markdown",
      "source": [
        "# Prepare model for predict named entity"
      ],
      "metadata": {
        "id": "HynIaJaichLn"
      }
    },
    {
      "cell_type": "code",
      "source": [
        "#Dowload dataset of LST20\n",
        "datasets = load_dataset(\"lst20\", data_dir=\"/content/LST20_Corpus\") \n",
        "datasets"
      ],
      "metadata": {
        "id": "II8GJSrgLmS1"
      },
      "execution_count": null,
      "outputs": []
    },
    {
      "cell_type": "code",
      "source": [
        "#Convert dataset to DataFrame\n",
        "train_df = pd.DataFrame(datasets['train'])\n",
        "validation_df = pd.DataFrame(datasets['validation'])\n",
        "test_df = pd.DataFrame(datasets['test'])"
      ],
      "metadata": {
        "id": "PqprVf9Yj36q"
      },
      "execution_count": null,
      "outputs": []
    },
    {
      "cell_type": "code",
      "source": [
        "_POS_TAGS = [\"NN\", \"VV\", \"PU\", \"CC\", \"PS\", \"AX\", \"AV\", \"FX\", \"NU\", \"AJ\", \"CL\", \"PR\", \"NG\", \"PA\", \"XX\", \"IJ\"]\n",
        "_NER_TAGS = [ \"O\",\n",
        "        \"B_BRN\",\n",
        "        \"B_DES\",\n",
        "        \"B_DTM\",\n",
        "        \"B_LOC\",\n",
        "        \"B_MEA\",\n",
        "        \"B_NUM\",\n",
        "        \"B_ORG\",\n",
        "        \"B_PER\",\n",
        "        \"B_TRM\",\n",
        "        \"B_TTL\",\n",
        "        \"I_BRN\",\n",
        "        \"I_DES\",\n",
        "        \"I_DTM\",\n",
        "        \"I_LOC\",\n",
        "        \"I_MEA\",\n",
        "        \"I_NUM\",\n",
        "        \"I_ORG\",\n",
        "        \"I_PER\",\n",
        "        \"I_TRM\",\n",
        "        \"I_TTL\",\n",
        "        \"E_BRN\",\n",
        "        \"E_DES\",\n",
        "        \"E_DTM\",\n",
        "        \"E_LOC\",\n",
        "        \"E_MEA\",\n",
        "        \"E_NUM\",\n",
        "        \"E_ORG\",\n",
        "        \"E_PER\",\n",
        "        \"E_TRM\",\n",
        "        \"E_TTL\",]\n",
        "_CLAUSE_TAGS = [\"O\", \"B_CLS\", \"I_CLS\", \"E_CLS\"]"
      ],
      "metadata": {
        "id": "JrX9xmT2q6nr"
      },
      "execution_count": null,
      "outputs": []
    },
    {
      "cell_type": "code",
      "source": [
        "def convert_to_simple_transformer_format(df):\n",
        "  data_df = pd.DataFrame()\n",
        "  sentence_id = []\n",
        "  words = []\n",
        "  labels = []\n",
        "\n",
        "  for sentence in range(len(df)):\n",
        "    for token in range(len(df['tokens'][sentence])):\n",
        "      sentence_id.append(sentence)\n",
        "      words.append(df['tokens'][sentence][token])\n",
        "      labels.append(_NER_TAGS[df['ner_tags'][sentence][token]])\n",
        "\n",
        "  return pd.DataFrame(\n",
        "      {\"sentence_id\": sentence_id, \"words\": words, \"labels\": labels}\n",
        "  )"
      ],
      "metadata": {
        "id": "8FfYmJtUNCDE"
      },
      "execution_count": null,
      "outputs": []
    },
    {
      "cell_type": "code",
      "source": [
        "train_data = convert_to_simple_transformer_format(train_df)\n",
        "validation_data = convert_to_simple_transformer_format(validation_df)\n",
        "test_data = convert_to_simple_transformer_format(test_df)"
      ],
      "metadata": {
        "id": "hlzVYjNgNITt"
      },
      "execution_count": null,
      "outputs": []
    },
    {
      "cell_type": "markdown",
      "source": [
        "# Model"
      ],
      "metadata": {
        "id": "69F_jEVru_K-"
      }
    },
    {
      "cell_type": "code",
      "source": [
        "!pip install simpletransformers\n",
        "!pip install python-crfsuite"
      ],
      "metadata": {
        "id": "NjlTRm-Ivv7l"
      },
      "execution_count": null,
      "outputs": []
    },
    {
      "cell_type": "code",
      "source": [
        "import torch\n",
        "import pandas as pd\n",
        "from simpletransformers.ner import NERModel, NERArgs\n",
        "\n",
        "# Configure the model\n",
        "ner_args = NERArgs()\n",
        "ner_args.train_batch_size = 16\n",
        "ner_args.eval_batch_size_batch_size = 16\n",
        "ner_args.use_multiprocessing = True\n",
        "ner_args.evaluate_during_training = True\n",
        "ner_args.overwrite_output_dir = True\n",
        "ner_args.num_train_epochs = 1\n",
        "ner_args.max_seq_length = 128\n",
        "\n",
        "model = NERModel(\n",
        "    \"camembert\", \"airesearch/wangchanberta-base-att-spm-uncased\", args=ner_args, use_cuda=torch.cuda.is_available(), labels=_NER_TAGS\n",
        ")"
      ],
      "metadata": {
        "id": "B0zdWIT8vJ0i"
      },
      "execution_count": null,
      "outputs": []
    },
    {
      "cell_type": "code",
      "source": [
        "# Train the model\n",
        "model.train_model(train_data, eval_data = validation_data)"
      ],
      "metadata": {
        "id": "vLSkiY_wcEN0"
      },
      "execution_count": null,
      "outputs": []
    },
    {
      "cell_type": "code",
      "source": [
        "# Evaluate the model\n",
        "result, model_outputs, preds_list = model.eval_model(validation_data)"
      ],
      "metadata": {
        "id": "tXfk9vU1cFCh"
      },
      "execution_count": null,
      "outputs": []
    },
    {
      "cell_type": "markdown",
      "source": [
        "# Prepare test data by manage ne_test.txt file"
      ],
      "metadata": {
        "id": "TLy7Nm-ocA15"
      }
    },
    {
      "cell_type": "code",
      "source": [
        "#Check word inside list\n",
        "def data_inside(data_list):\n",
        "  x = 0\n",
        "  for i in range(len(data_list)):\n",
        "    a = len(data_list[i])\n",
        "    x = x+a \n",
        "  return x"
      ],
      "metadata": {
        "id": "wlfL7xXfl3Uy"
      },
      "execution_count": null,
      "outputs": []
    },
    {
      "cell_type": "code",
      "source": [
        "def blank_space(x):\n",
        "  if x == '':\n",
        "    x = '_'\n",
        "  return x"
      ],
      "metadata": {
        "id": "Z1i9Lesjo94Y"
      },
      "execution_count": null,
      "outputs": []
    },
    {
      "cell_type": "code",
      "source": [
        "texts_test_raw = []\n",
        "f = open(\"/content/ne_test.txt\", 'r')\n",
        "file_data = f.readlines()\n",
        "for line in file_data:\n",
        "  line = line.strip().replace(u'\\xa0', u' ')\n",
        "  texts_test_raw.append(line)"
      ],
      "metadata": {
        "id": "3AR4pO_m1Z4i"
      },
      "execution_count": null,
      "outputs": []
    },
    {
      "cell_type": "code",
      "source": [
        "texts_test_raw = texts_test_raw[:-1]"
      ],
      "metadata": {
        "id": "732V-7lm2afz"
      },
      "execution_count": null,
      "outputs": []
    },
    {
      "cell_type": "code",
      "source": [
        "for i in range (len(texts_test_raw)):\n",
        "  texts_test_raw[i] = blank_space(texts_test_raw[i])"
      ],
      "metadata": {
        "id": "c4dn_r632foZ"
      },
      "execution_count": null,
      "outputs": []
    },
    {
      "cell_type": "code",
      "source": [
        "print(len(texts_test_raw))\n",
        "print(texts_test_raw)"
      ],
      "metadata": {
        "id": "k64WASnj3NWV"
      },
      "execution_count": null,
      "outputs": []
    },
    {
      "cell_type": "code",
      "source": [
        "from pythainlp.tokenize import clause_tokenize\n",
        "\n",
        "# Sentence Cut by LST20 dataset\n",
        "my_token = clause_tokenize(texts_test_raw)\n"
      ],
      "metadata": {
        "id": "v3wsL-_83SNp"
      },
      "execution_count": null,
      "outputs": []
    },
    {
      "cell_type": "markdown",
      "source": [
        "# Make predictions"
      ],
      "metadata": {
        "id": "AaTcxPoQChMD"
      }
    },
    {
      "cell_type": "code",
      "source": [
        "#Test model\n",
        "# Configure the model\n",
        "ner_args = NERArgs()\n",
        "ner_args.train_batch_size = 16\n",
        "ner_args.eval_batch_size_batch_size = 16\n",
        "ner_args.use_multiprocessing = True\n",
        "ner_args.evaluate_during_training = True\n",
        "ner_args.overwrite_output_dir = True\n",
        "ner_args.num_train_epochs = 3\n",
        "ner_args.max_seq_length = 512\n",
        "\n",
        "best_model = NERModel(\n",
        "    \"camembert\", \"/content/outputs/best_model\", args=ner_args, use_cuda=torch.cuda.is_available(), labels=_NER_TAGS\n",
        ")"
      ],
      "metadata": {
        "id": "yexrttBurEF5"
      },
      "execution_count": null,
      "outputs": []
    },
    {
      "cell_type": "code",
      "source": [
        "# Make predictions with the model\n",
        "predictions, raw_outputs = best_model.predict(my_token, False)"
      ],
      "metadata": {
        "id": "2aCt_GY4ViAN"
      },
      "execution_count": null,
      "outputs": []
    },
    {
      "cell_type": "code",
      "source": [
        "predictions"
      ],
      "metadata": {
        "id": "AHZfTUQbY-Xq"
      },
      "execution_count": null,
      "outputs": []
    },
    {
      "cell_type": "code",
      "source": [
        "len(predictions)"
      ],
      "metadata": {
        "id": "HBPQ9i7ARp_H",
        "colab": {
          "base_uri": "https://localhost:8080/"
        },
        "outputId": "ded13766-0fbe-4069-ae86-0c95abed4c04"
      },
      "execution_count": null,
      "outputs": [
        {
          "output_type": "execute_result",
          "data": {
            "text/plain": [
              "3648"
            ]
          },
          "metadata": {},
          "execution_count": 106
        }
      ]
    },
    {
      "cell_type": "code",
      "source": [
        "data_inside(predictions)"
      ],
      "metadata": {
        "colab": {
          "base_uri": "https://localhost:8080/"
        },
        "id": "vIr3lod6vjqB",
        "outputId": "feb7afc2-0fdb-42e1-a428-ba2f16c286e4"
      },
      "execution_count": null,
      "outputs": [
        {
          "output_type": "execute_result",
          "data": {
            "text/plain": [
              "69561"
            ]
          },
          "metadata": {},
          "execution_count": 107
        }
      ]
    },
    {
      "cell_type": "code",
      "source": [
        "final_test = []\n",
        "\n",
        "for i in range (len(predictions)):\n",
        "  for j in range (len(predictions[i])):\n",
        "    data = predictions[i][j]\n",
        "    value = data.values()\n",
        "    final_test += value\n",
        "\n",
        "len(final_test)"
      ],
      "metadata": {
        "colab": {
          "base_uri": "https://localhost:8080/"
        },
        "id": "90zjLvtRpBGH",
        "outputId": "4ba73831-c10e-4909-c08a-f83d234823dc"
      },
      "execution_count": null,
      "outputs": [
        {
          "output_type": "execute_result",
          "data": {
            "text/plain": [
              "69561"
            ]
          },
          "metadata": {},
          "execution_count": 108
        }
      ]
    },
    {
      "cell_type": "markdown",
      "source": [
        "# Submission"
      ],
      "metadata": {
        "id": "WgJfViAFqB79"
      }
    },
    {
      "cell_type": "code",
      "source": [
        "samplesubmit"
      ],
      "metadata": {
        "colab": {
          "base_uri": "https://localhost:8080/",
          "height": 423
        },
        "id": "lCKjlGQVpFs6",
        "outputId": "60bae586-1290-43d0-f2b2-e4cee2dd0831"
      },
      "execution_count": null,
      "outputs": [
        {
          "output_type": "execute_result",
          "data": {
            "text/plain": [
              "          Id Predicted\n",
              "0          1     B_TTL\n",
              "1          2     B_PER\n",
              "2          3     I_PER\n",
              "3          4       NaN\n",
              "4          5       NaN\n",
              "...      ...       ...\n",
              "69556  69557       NaN\n",
              "69557  69558       NaN\n",
              "69558  69559       NaN\n",
              "69559  69560       NaN\n",
              "69560  69561       NaN\n",
              "\n",
              "[69561 rows x 2 columns]"
            ],
            "text/html": [
              "\n",
              "  <div id=\"df-fd956e1b-bebb-414c-b22e-408a9d37331a\">\n",
              "    <div class=\"colab-df-container\">\n",
              "      <div>\n",
              "<style scoped>\n",
              "    .dataframe tbody tr th:only-of-type {\n",
              "        vertical-align: middle;\n",
              "    }\n",
              "\n",
              "    .dataframe tbody tr th {\n",
              "        vertical-align: top;\n",
              "    }\n",
              "\n",
              "    .dataframe thead th {\n",
              "        text-align: right;\n",
              "    }\n",
              "</style>\n",
              "<table border=\"1\" class=\"dataframe\">\n",
              "  <thead>\n",
              "    <tr style=\"text-align: right;\">\n",
              "      <th></th>\n",
              "      <th>Id</th>\n",
              "      <th>Predicted</th>\n",
              "    </tr>\n",
              "  </thead>\n",
              "  <tbody>\n",
              "    <tr>\n",
              "      <th>0</th>\n",
              "      <td>1</td>\n",
              "      <td>B_TTL</td>\n",
              "    </tr>\n",
              "    <tr>\n",
              "      <th>1</th>\n",
              "      <td>2</td>\n",
              "      <td>B_PER</td>\n",
              "    </tr>\n",
              "    <tr>\n",
              "      <th>2</th>\n",
              "      <td>3</td>\n",
              "      <td>I_PER</td>\n",
              "    </tr>\n",
              "    <tr>\n",
              "      <th>3</th>\n",
              "      <td>4</td>\n",
              "      <td>NaN</td>\n",
              "    </tr>\n",
              "    <tr>\n",
              "      <th>4</th>\n",
              "      <td>5</td>\n",
              "      <td>NaN</td>\n",
              "    </tr>\n",
              "    <tr>\n",
              "      <th>...</th>\n",
              "      <td>...</td>\n",
              "      <td>...</td>\n",
              "    </tr>\n",
              "    <tr>\n",
              "      <th>69556</th>\n",
              "      <td>69557</td>\n",
              "      <td>NaN</td>\n",
              "    </tr>\n",
              "    <tr>\n",
              "      <th>69557</th>\n",
              "      <td>69558</td>\n",
              "      <td>NaN</td>\n",
              "    </tr>\n",
              "    <tr>\n",
              "      <th>69558</th>\n",
              "      <td>69559</td>\n",
              "      <td>NaN</td>\n",
              "    </tr>\n",
              "    <tr>\n",
              "      <th>69559</th>\n",
              "      <td>69560</td>\n",
              "      <td>NaN</td>\n",
              "    </tr>\n",
              "    <tr>\n",
              "      <th>69560</th>\n",
              "      <td>69561</td>\n",
              "      <td>NaN</td>\n",
              "    </tr>\n",
              "  </tbody>\n",
              "</table>\n",
              "<p>69561 rows × 2 columns</p>\n",
              "</div>\n",
              "      <button class=\"colab-df-convert\" onclick=\"convertToInteractive('df-fd956e1b-bebb-414c-b22e-408a9d37331a')\"\n",
              "              title=\"Convert this dataframe to an interactive table.\"\n",
              "              style=\"display:none;\">\n",
              "        \n",
              "  <svg xmlns=\"http://www.w3.org/2000/svg\" height=\"24px\"viewBox=\"0 0 24 24\"\n",
              "       width=\"24px\">\n",
              "    <path d=\"M0 0h24v24H0V0z\" fill=\"none\"/>\n",
              "    <path d=\"M18.56 5.44l.94 2.06.94-2.06 2.06-.94-2.06-.94-.94-2.06-.94 2.06-2.06.94zm-11 1L8.5 8.5l.94-2.06 2.06-.94-2.06-.94L8.5 2.5l-.94 2.06-2.06.94zm10 10l.94 2.06.94-2.06 2.06-.94-2.06-.94-.94-2.06-.94 2.06-2.06.94z\"/><path d=\"M17.41 7.96l-1.37-1.37c-.4-.4-.92-.59-1.43-.59-.52 0-1.04.2-1.43.59L10.3 9.45l-7.72 7.72c-.78.78-.78 2.05 0 2.83L4 21.41c.39.39.9.59 1.41.59.51 0 1.02-.2 1.41-.59l7.78-7.78 2.81-2.81c.8-.78.8-2.07 0-2.86zM5.41 20L4 18.59l7.72-7.72 1.47 1.35L5.41 20z\"/>\n",
              "  </svg>\n",
              "      </button>\n",
              "      \n",
              "  <style>\n",
              "    .colab-df-container {\n",
              "      display:flex;\n",
              "      flex-wrap:wrap;\n",
              "      gap: 12px;\n",
              "    }\n",
              "\n",
              "    .colab-df-convert {\n",
              "      background-color: #E8F0FE;\n",
              "      border: none;\n",
              "      border-radius: 50%;\n",
              "      cursor: pointer;\n",
              "      display: none;\n",
              "      fill: #1967D2;\n",
              "      height: 32px;\n",
              "      padding: 0 0 0 0;\n",
              "      width: 32px;\n",
              "    }\n",
              "\n",
              "    .colab-df-convert:hover {\n",
              "      background-color: #E2EBFA;\n",
              "      box-shadow: 0px 1px 2px rgba(60, 64, 67, 0.3), 0px 1px 3px 1px rgba(60, 64, 67, 0.15);\n",
              "      fill: #174EA6;\n",
              "    }\n",
              "\n",
              "    [theme=dark] .colab-df-convert {\n",
              "      background-color: #3B4455;\n",
              "      fill: #D2E3FC;\n",
              "    }\n",
              "\n",
              "    [theme=dark] .colab-df-convert:hover {\n",
              "      background-color: #434B5C;\n",
              "      box-shadow: 0px 1px 3px 1px rgba(0, 0, 0, 0.15);\n",
              "      filter: drop-shadow(0px 1px 2px rgba(0, 0, 0, 0.3));\n",
              "      fill: #FFFFFF;\n",
              "    }\n",
              "  </style>\n",
              "\n",
              "      <script>\n",
              "        const buttonEl =\n",
              "          document.querySelector('#df-fd956e1b-bebb-414c-b22e-408a9d37331a button.colab-df-convert');\n",
              "        buttonEl.style.display =\n",
              "          google.colab.kernel.accessAllowed ? 'block' : 'none';\n",
              "\n",
              "        async function convertToInteractive(key) {\n",
              "          const element = document.querySelector('#df-fd956e1b-bebb-414c-b22e-408a9d37331a');\n",
              "          const dataTable =\n",
              "            await google.colab.kernel.invokeFunction('convertToInteractive',\n",
              "                                                     [key], {});\n",
              "          if (!dataTable) return;\n",
              "\n",
              "          const docLinkHtml = 'Like what you see? Visit the ' +\n",
              "            '<a target=\"_blank\" href=https://colab.research.google.com/notebooks/data_table.ipynb>data table notebook</a>'\n",
              "            + ' to learn more about interactive tables.';\n",
              "          element.innerHTML = '';\n",
              "          dataTable['output_type'] = 'display_data';\n",
              "          await google.colab.output.renderOutput(dataTable, element);\n",
              "          const docLink = document.createElement('div');\n",
              "          docLink.innerHTML = docLinkHtml;\n",
              "          element.appendChild(docLink);\n",
              "        }\n",
              "      </script>\n",
              "    </div>\n",
              "  </div>\n",
              "  "
            ]
          },
          "metadata": {},
          "execution_count": 109
        }
      ]
    },
    {
      "cell_type": "code",
      "source": [
        "predicts = samplesubmit\n",
        "predicts['Predicted'] = final_test\n",
        "predicts"
      ],
      "metadata": {
        "colab": {
          "base_uri": "https://localhost:8080/",
          "height": 423
        },
        "id": "CYasCzukakQL",
        "outputId": "20856b0f-68fd-4790-bbbe-8c5d360f43be"
      },
      "execution_count": null,
      "outputs": [
        {
          "output_type": "execute_result",
          "data": {
            "text/plain": [
              "          Id Predicted\n",
              "0          1     B_TTL\n",
              "1          2     B_PER\n",
              "2          3     I_PER\n",
              "3          4     E_PER\n",
              "4          5         O\n",
              "...      ...       ...\n",
              "69556  69557         O\n",
              "69557  69558         O\n",
              "69558  69559         O\n",
              "69559  69560         O\n",
              "69560  69561         O\n",
              "\n",
              "[69561 rows x 2 columns]"
            ],
            "text/html": [
              "\n",
              "  <div id=\"df-72e307a3-ce4c-4c0f-bc7b-aa7d6b9fc66d\">\n",
              "    <div class=\"colab-df-container\">\n",
              "      <div>\n",
              "<style scoped>\n",
              "    .dataframe tbody tr th:only-of-type {\n",
              "        vertical-align: middle;\n",
              "    }\n",
              "\n",
              "    .dataframe tbody tr th {\n",
              "        vertical-align: top;\n",
              "    }\n",
              "\n",
              "    .dataframe thead th {\n",
              "        text-align: right;\n",
              "    }\n",
              "</style>\n",
              "<table border=\"1\" class=\"dataframe\">\n",
              "  <thead>\n",
              "    <tr style=\"text-align: right;\">\n",
              "      <th></th>\n",
              "      <th>Id</th>\n",
              "      <th>Predicted</th>\n",
              "    </tr>\n",
              "  </thead>\n",
              "  <tbody>\n",
              "    <tr>\n",
              "      <th>0</th>\n",
              "      <td>1</td>\n",
              "      <td>B_TTL</td>\n",
              "    </tr>\n",
              "    <tr>\n",
              "      <th>1</th>\n",
              "      <td>2</td>\n",
              "      <td>B_PER</td>\n",
              "    </tr>\n",
              "    <tr>\n",
              "      <th>2</th>\n",
              "      <td>3</td>\n",
              "      <td>I_PER</td>\n",
              "    </tr>\n",
              "    <tr>\n",
              "      <th>3</th>\n",
              "      <td>4</td>\n",
              "      <td>E_PER</td>\n",
              "    </tr>\n",
              "    <tr>\n",
              "      <th>4</th>\n",
              "      <td>5</td>\n",
              "      <td>O</td>\n",
              "    </tr>\n",
              "    <tr>\n",
              "      <th>...</th>\n",
              "      <td>...</td>\n",
              "      <td>...</td>\n",
              "    </tr>\n",
              "    <tr>\n",
              "      <th>69556</th>\n",
              "      <td>69557</td>\n",
              "      <td>O</td>\n",
              "    </tr>\n",
              "    <tr>\n",
              "      <th>69557</th>\n",
              "      <td>69558</td>\n",
              "      <td>O</td>\n",
              "    </tr>\n",
              "    <tr>\n",
              "      <th>69558</th>\n",
              "      <td>69559</td>\n",
              "      <td>O</td>\n",
              "    </tr>\n",
              "    <tr>\n",
              "      <th>69559</th>\n",
              "      <td>69560</td>\n",
              "      <td>O</td>\n",
              "    </tr>\n",
              "    <tr>\n",
              "      <th>69560</th>\n",
              "      <td>69561</td>\n",
              "      <td>O</td>\n",
              "    </tr>\n",
              "  </tbody>\n",
              "</table>\n",
              "<p>69561 rows × 2 columns</p>\n",
              "</div>\n",
              "      <button class=\"colab-df-convert\" onclick=\"convertToInteractive('df-72e307a3-ce4c-4c0f-bc7b-aa7d6b9fc66d')\"\n",
              "              title=\"Convert this dataframe to an interactive table.\"\n",
              "              style=\"display:none;\">\n",
              "        \n",
              "  <svg xmlns=\"http://www.w3.org/2000/svg\" height=\"24px\"viewBox=\"0 0 24 24\"\n",
              "       width=\"24px\">\n",
              "    <path d=\"M0 0h24v24H0V0z\" fill=\"none\"/>\n",
              "    <path d=\"M18.56 5.44l.94 2.06.94-2.06 2.06-.94-2.06-.94-.94-2.06-.94 2.06-2.06.94zm-11 1L8.5 8.5l.94-2.06 2.06-.94-2.06-.94L8.5 2.5l-.94 2.06-2.06.94zm10 10l.94 2.06.94-2.06 2.06-.94-2.06-.94-.94-2.06-.94 2.06-2.06.94z\"/><path d=\"M17.41 7.96l-1.37-1.37c-.4-.4-.92-.59-1.43-.59-.52 0-1.04.2-1.43.59L10.3 9.45l-7.72 7.72c-.78.78-.78 2.05 0 2.83L4 21.41c.39.39.9.59 1.41.59.51 0 1.02-.2 1.41-.59l7.78-7.78 2.81-2.81c.8-.78.8-2.07 0-2.86zM5.41 20L4 18.59l7.72-7.72 1.47 1.35L5.41 20z\"/>\n",
              "  </svg>\n",
              "      </button>\n",
              "      \n",
              "  <style>\n",
              "    .colab-df-container {\n",
              "      display:flex;\n",
              "      flex-wrap:wrap;\n",
              "      gap: 12px;\n",
              "    }\n",
              "\n",
              "    .colab-df-convert {\n",
              "      background-color: #E8F0FE;\n",
              "      border: none;\n",
              "      border-radius: 50%;\n",
              "      cursor: pointer;\n",
              "      display: none;\n",
              "      fill: #1967D2;\n",
              "      height: 32px;\n",
              "      padding: 0 0 0 0;\n",
              "      width: 32px;\n",
              "    }\n",
              "\n",
              "    .colab-df-convert:hover {\n",
              "      background-color: #E2EBFA;\n",
              "      box-shadow: 0px 1px 2px rgba(60, 64, 67, 0.3), 0px 1px 3px 1px rgba(60, 64, 67, 0.15);\n",
              "      fill: #174EA6;\n",
              "    }\n",
              "\n",
              "    [theme=dark] .colab-df-convert {\n",
              "      background-color: #3B4455;\n",
              "      fill: #D2E3FC;\n",
              "    }\n",
              "\n",
              "    [theme=dark] .colab-df-convert:hover {\n",
              "      background-color: #434B5C;\n",
              "      box-shadow: 0px 1px 3px 1px rgba(0, 0, 0, 0.15);\n",
              "      filter: drop-shadow(0px 1px 2px rgba(0, 0, 0, 0.3));\n",
              "      fill: #FFFFFF;\n",
              "    }\n",
              "  </style>\n",
              "\n",
              "      <script>\n",
              "        const buttonEl =\n",
              "          document.querySelector('#df-72e307a3-ce4c-4c0f-bc7b-aa7d6b9fc66d button.colab-df-convert');\n",
              "        buttonEl.style.display =\n",
              "          google.colab.kernel.accessAllowed ? 'block' : 'none';\n",
              "\n",
              "        async function convertToInteractive(key) {\n",
              "          const element = document.querySelector('#df-72e307a3-ce4c-4c0f-bc7b-aa7d6b9fc66d');\n",
              "          const dataTable =\n",
              "            await google.colab.kernel.invokeFunction('convertToInteractive',\n",
              "                                                     [key], {});\n",
              "          if (!dataTable) return;\n",
              "\n",
              "          const docLinkHtml = 'Like what you see? Visit the ' +\n",
              "            '<a target=\"_blank\" href=https://colab.research.google.com/notebooks/data_table.ipynb>data table notebook</a>'\n",
              "            + ' to learn more about interactive tables.';\n",
              "          element.innerHTML = '';\n",
              "          dataTable['output_type'] = 'display_data';\n",
              "          await google.colab.output.renderOutput(dataTable, element);\n",
              "          const docLink = document.createElement('div');\n",
              "          docLink.innerHTML = docLinkHtml;\n",
              "          element.appendChild(docLink);\n",
              "        }\n",
              "      </script>\n",
              "    </div>\n",
              "  </div>\n",
              "  "
            ]
          },
          "metadata": {},
          "execution_count": 110
        }
      ]
    },
    {
      "cell_type": "code",
      "source": [
        "predicts.to_csv('submission_nlp_02.csv',index=False)"
      ],
      "metadata": {
        "id": "iQ5elz9gwK3p"
      },
      "execution_count": null,
      "outputs": []
    },
    {
      "cell_type": "code",
      "source": [],
      "metadata": {
        "id": "b8pjAG3S1odM"
      },
      "execution_count": null,
      "outputs": []
    }
  ]
}